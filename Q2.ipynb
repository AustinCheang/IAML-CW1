{
 "cells": [
  {
   "cell_type": "code",
   "execution_count": 1,
   "metadata": {},
   "outputs": [],
   "source": [
    "import os\n",
    "import sys\n",
    "import numpy as np\n",
    "from numpy.linalg import inv\n",
    "import pandas as pd\n",
    "from matplotlib import pyplot as plt\n",
    "import seaborn as sns\n",
    "from sklearn.preprocessing import PolynomialFeatures\n",
    "from sklearn.linear_model import LinearRegression\n",
    "from sklearn.metrics import mean_squared_error"
   ]
  },
  {
   "cell_type": "code",
   "execution_count": 2,
   "metadata": {},
   "outputs": [
    {
     "name": "stdout",
     "output_type": "stream",
     "text": [
      "    input  output\n",
      "0   2.728   9.088\n",
      "1   3.244  12.786\n",
      "2  -4.164 -10.016\n",
      "3   4.875  32.976\n",
      "4   3.329  10.437\n",
      "5   4.268  21.681\n",
      "6  -2.879  -5.204\n",
      "7  -2.276  -1.465\n",
      "8   2.688   8.539\n",
      "9   2.780   6.929\n",
      "10  3.874  15.765\n",
      "11 -4.826 -15.577\n",
      "12  2.633  11.382\n",
      "13  2.815   9.853\n",
      "14  4.441  24.914\n",
      "15  1.345   3.977\n",
      "16 -4.616 -15.291\n",
      "17  1.405  -0.154\n",
      "18 -2.588  -0.988\n",
      "19  0.992  -1.133\n",
      "20  3.276  10.743\n",
      "21 -0.597   0.536\n",
      "22 -3.772  -6.342\n",
      "23 -2.848  -1.673\n",
      "24  4.310  25.919\n"
     ]
    }
   ],
   "source": [
    "#Path to regression data\n",
    "polreg_loc = os.path.join(os.getcwd(), 'data', 'regression_part2.csv')\n",
    "\n",
    "#Creates DataFrame\n",
    "dataSet = pd.read_csv(polreg_loc)\n",
    "print(dataSet)"
   ]
  },
  {
   "cell_type": "code",
   "execution_count": 3,
   "metadata": {},
   "outputs": [
    {
     "data": {
      "text/plain": [
       "(array([-4.826]), array([4.875]))"
      ]
     },
     "execution_count": 3,
     "metadata": {},
     "output_type": "execute_result"
    }
   ],
   "source": [
    "inpt = dataSet['input'].values.reshape(len(dataSet['input'].values), 1)\n",
    "\n",
    "\n",
    "\n",
    "y = dataSet['output'].values.reshape(len(inpt), 1)\n",
    "\n",
    "min(inpt),max(inpt)"
   ]
  },
  {
   "cell_type": "code",
   "execution_count": 4,
   "metadata": {},
   "outputs": [
    {
     "name": "stdout",
     "output_type": "stream",
     "text": [
      "[3.07542413 3.46412862]\n",
      "[-1.26620028  3.46985973  0.39506553]\n",
      "[0.4053055  0.48562415 0.31115341 0.19142221]\n",
      "[ 0.24292578  0.48100068  0.35212378  0.19152571 -0.00169485]\n"
     ]
    },
    {
     "data": {
      "image/png": "[encoded data removed]",
      "text/plain": [
       "<Figure size 432x288 with 1 Axes>"
      ]
     },
     "metadata": {
      "needs_background": "light"
     },
     "output_type": "display_data"
    }
   ],
   "source": [
    "#Plot that data set\n",
    "dataSet.plot(x = 'input', y = 'output', kind = 'scatter', label = 'Dataset')\n",
    "\n",
    "pee = ['red','orange','green','purple']\n",
    "\n",
    "MSE = []\n",
    "\n",
    "for i in [1,2,3,4]: \n",
    "    #To what degree will we be fitting our data.\n",
    "    polyReg = PolynomialFeatures(degree = i, include_bias = False)\n",
    "    poly_x = polyReg.fit_transform(inpt)\n",
    "\n",
    "    #Add bias\n",
    "    designMatrix = np.append(np.ones([len(inpt), 1]), poly_x, axis = 1)\n",
    "\n",
    "    #Fit optimal weights\n",
    "    reg = LinearRegression(fit_intercept= False)\n",
    "    reg.fit(designMatrix, y)\n",
    "    \n",
    "    MSE.append(mean_squared_error(y, reg.predict(designMatrix)))\n",
    "\n",
    "    #Create X and Y co-ordinates for plotting\n",
    "    weights = reg.coef_[0]\n",
    "    print(weights)\n",
    "    X = np.linspace(-5,5,100)\n",
    "    \n",
    "    #Quite a un-cool little for loop for calculating Y if you ask me \n",
    "    if (i == 1):\n",
    "        Y = X*weights[1] + weights[0]\n",
    "    elif(i == 2):\n",
    "        Y = np.power(X, 2)*weights[2] + X*weights[1] + weights[0]\n",
    "    elif(i == 3):\n",
    "        Y = np.power(X, 3)*weights[3] + np.power(X,2)*weights[2] + X*weights[1] + weights[0]\n",
    "    elif(i == 4):\n",
    "        Y = np.power(X, 4)*weights[4] + np.power(X, 3)*weights[3] + np.power(X,2)*weights[2] + X*weights[1] + weights[0]\n",
    "        \n",
    "        plt.plot(X,Y,color = pee[i-1], label = 'M = ' + str(i), linestyle = '--')\n",
    "        plt.legend()\n",
    "            \n",
    "        continue\n",
    "        \n",
    "    #Plot our results\n",
    "    plt.plot(X,Y,color = pee[i-1], label = 'M = ' + str(i))\n",
    "    plt.legend()\n",
    "    \n",
    "    "
   ]
  },
  {
   "cell_type": "code",
   "execution_count": 5,
   "metadata": {},
   "outputs": [
    {
     "data": {
      "text/plain": [
       "<Figure size 432x288 with 0 Axes>"
      ]
     },
     "metadata": {},
     "output_type": "display_data"
    },
    {
     "data": {
      "image/png": "[encoded data removed]",
      "text/plain": [
       "<Figure size 432x288 with 1 Axes>"
      ]
     },
     "metadata": {
      "needs_background": "light"
     },
     "output_type": "display_data"
    }
   ],
   "source": [
    "plt.figure()\n",
    "fig = plt.figure()\n",
    "ax = fig.add_axes([0,0,1,1])\n",
    "degrees = ['M = 1', 'M = 2', 'M = 3', 'M = 4']\n",
    "MSE2 = [MSE[0],MSE[1],MSE[2],MSE[3]]\n",
    "ax.bar(degrees,MSE2)\n",
    "plt.show()"
   ]
  },
  {
   "cell_type": "code",
   "execution_count": 6,
   "metadata": {
    "scrolled": true
   },
   "outputs": [
    {
     "ename": "NameError",
     "evalue": "name 'rbf' is not defined",
     "output_type": "error",
     "traceback": [
      "\u001b[0;31m---------------------------------------------------------------------------\u001b[0m",
      "\u001b[0;31mNameError\u001b[0m                                 Traceback (most recent call last)",
      "\u001b[0;32m<ipython-input-6-e6508e58658b>\u001b[0m in \u001b[0;36m<module>\u001b[0;34m\u001b[0m\n\u001b[0;32m----> 1\u001b[0;31m \u001b[0mY2\u001b[0m \u001b[0;34m=\u001b[0m \u001b[0mweights\u001b[0m\u001b[0;34m[\u001b[0m\u001b[0;36m0\u001b[0m\u001b[0;34m]\u001b[0m \u001b[0;34m+\u001b[0m \u001b[0mweights\u001b[0m\u001b[0;34m[\u001b[0m\u001b[0;36m1\u001b[0m\u001b[0;34m]\u001b[0m\u001b[0;34m*\u001b[0m\u001b[0mrbf\u001b[0m\u001b[0;34m(\u001b[0m\u001b[0mc\u001b[0m\u001b[0;34m[\u001b[0m\u001b[0;36m0\u001b[0m\u001b[0;34m]\u001b[0m\u001b[0;34m,\u001b[0m\u001b[0malpha\u001b[0m\u001b[0;34m[\u001b[0m\u001b[0;36m1\u001b[0m\u001b[0;34m]\u001b[0m\u001b[0;34m,\u001b[0m\u001b[0mX\u001b[0m\u001b[0;34m)\u001b[0m \u001b[0;34m+\u001b[0m \u001b[0mweights\u001b[0m\u001b[0;34m[\u001b[0m\u001b[0;36m2\u001b[0m\u001b[0;34m]\u001b[0m\u001b[0;34m*\u001b[0m\u001b[0mrbf\u001b[0m\u001b[0;34m(\u001b[0m\u001b[0mc\u001b[0m\u001b[0;34m[\u001b[0m\u001b[0;36m1\u001b[0m\u001b[0;34m]\u001b[0m\u001b[0;34m,\u001b[0m\u001b[0malpha\u001b[0m\u001b[0;34m[\u001b[0m\u001b[0;36m1\u001b[0m\u001b[0;34m]\u001b[0m\u001b[0;34m,\u001b[0m\u001b[0mX\u001b[0m\u001b[0;34m)\u001b[0m \u001b[0;34m+\u001b[0m \u001b[0mweights\u001b[0m\u001b[0;34m[\u001b[0m\u001b[0;36m3\u001b[0m\u001b[0;34m]\u001b[0m\u001b[0;34m*\u001b[0m\u001b[0mrbf\u001b[0m\u001b[0;34m(\u001b[0m\u001b[0mc\u001b[0m\u001b[0;34m[\u001b[0m\u001b[0;36m2\u001b[0m\u001b[0;34m]\u001b[0m\u001b[0;34m,\u001b[0m\u001b[0malpha\u001b[0m\u001b[0;34m[\u001b[0m\u001b[0;36m1\u001b[0m\u001b[0;34m]\u001b[0m\u001b[0;34m,\u001b[0m\u001b[0mX\u001b[0m\u001b[0;34m)\u001b[0m \u001b[0;34m+\u001b[0m \u001b[0mweights\u001b[0m\u001b[0;34m[\u001b[0m\u001b[0;36m4\u001b[0m\u001b[0;34m]\u001b[0m\u001b[0;34m*\u001b[0m\u001b[0mrbf\u001b[0m\u001b[0;34m(\u001b[0m\u001b[0mc\u001b[0m\u001b[0;34m[\u001b[0m\u001b[0;36m3\u001b[0m\u001b[0;34m]\u001b[0m\u001b[0;34m,\u001b[0m\u001b[0malpha\u001b[0m\u001b[0;34m[\u001b[0m\u001b[0;36m1\u001b[0m\u001b[0;34m]\u001b[0m\u001b[0;34m,\u001b[0m\u001b[0mX\u001b[0m\u001b[0;34m)\u001b[0m\u001b[0;34m\u001b[0m\u001b[0;34m\u001b[0m\u001b[0m\n\u001b[0m\u001b[1;32m      2\u001b[0m \u001b[0mY3\u001b[0m \u001b[0;34m=\u001b[0m \u001b[0mweights\u001b[0m\u001b[0;34m[\u001b[0m\u001b[0;36m0\u001b[0m\u001b[0;34m]\u001b[0m \u001b[0;34m+\u001b[0m \u001b[0mweights\u001b[0m\u001b[0;34m[\u001b[0m\u001b[0;36m1\u001b[0m\u001b[0;34m]\u001b[0m\u001b[0;34m*\u001b[0m\u001b[0mrbf\u001b[0m\u001b[0;34m(\u001b[0m\u001b[0mc\u001b[0m\u001b[0;34m[\u001b[0m\u001b[0;36m0\u001b[0m\u001b[0;34m]\u001b[0m\u001b[0;34m,\u001b[0m\u001b[0malpha\u001b[0m\u001b[0;34m[\u001b[0m\u001b[0;36m2\u001b[0m\u001b[0;34m]\u001b[0m\u001b[0;34m,\u001b[0m\u001b[0mX\u001b[0m\u001b[0;34m)\u001b[0m \u001b[0;34m+\u001b[0m \u001b[0mweights\u001b[0m\u001b[0;34m[\u001b[0m\u001b[0;36m2\u001b[0m\u001b[0;34m]\u001b[0m\u001b[0;34m*\u001b[0m\u001b[0mrbf\u001b[0m\u001b[0;34m(\u001b[0m\u001b[0mc\u001b[0m\u001b[0;34m[\u001b[0m\u001b[0;36m1\u001b[0m\u001b[0;34m]\u001b[0m\u001b[0;34m,\u001b[0m\u001b[0malpha\u001b[0m\u001b[0;34m[\u001b[0m\u001b[0;36m2\u001b[0m\u001b[0;34m]\u001b[0m\u001b[0;34m,\u001b[0m\u001b[0mX\u001b[0m\u001b[0;34m)\u001b[0m \u001b[0;34m+\u001b[0m \u001b[0mweights\u001b[0m\u001b[0;34m[\u001b[0m\u001b[0;36m3\u001b[0m\u001b[0;34m]\u001b[0m\u001b[0;34m*\u001b[0m\u001b[0mrbf\u001b[0m\u001b[0;34m(\u001b[0m\u001b[0mc\u001b[0m\u001b[0;34m[\u001b[0m\u001b[0;36m2\u001b[0m\u001b[0;34m]\u001b[0m\u001b[0;34m,\u001b[0m\u001b[0malpha\u001b[0m\u001b[0;34m[\u001b[0m\u001b[0;36m2\u001b[0m\u001b[0;34m]\u001b[0m\u001b[0;34m,\u001b[0m\u001b[0mX\u001b[0m\u001b[0;34m)\u001b[0m \u001b[0;34m+\u001b[0m \u001b[0mweights\u001b[0m\u001b[0;34m[\u001b[0m\u001b[0;36m4\u001b[0m\u001b[0;34m]\u001b[0m\u001b[0;34m*\u001b[0m\u001b[0mrbf\u001b[0m\u001b[0;34m(\u001b[0m\u001b[0mc\u001b[0m\u001b[0;34m[\u001b[0m\u001b[0;36m3\u001b[0m\u001b[0;34m]\u001b[0m\u001b[0;34m,\u001b[0m\u001b[0malpha\u001b[0m\u001b[0;34m[\u001b[0m\u001b[0;36m2\u001b[0m\u001b[0;34m]\u001b[0m\u001b[0;34m,\u001b[0m\u001b[0mX\u001b[0m\u001b[0;34m)\u001b[0m\u001b[0;34m\u001b[0m\u001b[0;34m\u001b[0m\u001b[0m\n",
      "\u001b[0;31mNameError\u001b[0m: name 'rbf' is not defined"
     ]
    }
   ],
   "source": [
    "Y2 = weights[0] + weights[1]*rbf(c[0],alpha[1],X) + weights[2]*rbf(c[1],alpha[1],X) + weights[3]*rbf(c[2],alpha[1],X) + weights[4]*rbf(c[3],alpha[1],X)\n",
    "Y3 = weights[0] + weights[1]*rbf(c[0],alpha[2],X) + weights[2]*rbf(c[1],alpha[2],X) + weights[3]*rbf(c[2],alpha[2],X) + weights[4]*rbf(c[3],alpha[2],X)"
   ]
  },
  {
   "cell_type": "code",
   "execution_count": 12,
   "metadata": {},
   "outputs": [],
   "source": [
    "def rbf(center, alpha, x):\n",
    "    return np.exp(-0.5*(x-center)**2/alpha**2)"
   ]
  },
  {
   "cell_type": "code",
   "execution_count": 13,
   "metadata": {},
   "outputs": [],
   "source": [
    "c = np.array([-4.0,-2.0,2.0,4.0])\n",
    "alpha = np.array([0.2,100,1000])\n",
    "designMatrix = np.ones((len(inpt),1))\n",
    "appender = np.ones((len(inpt),1))\n",
    "\n",
    "#Column vectors for alpha 0.2\n",
    "rbf1 = rbf(c[0],alpha[0],inpt)\n",
    "rbf2 = rbf(c[1],alpha[0],inpt)\n",
    "rbf3 = rbf(c[2],alpha[0],inpt)\n",
    "rbf4 = rbf(c[3],alpha[0],inpt)\n",
    "\n",
    "#Column vectors for alpha 100\n",
    "rbf1a100 = rbf(c[0],alpha[1],inpt)\n",
    "rbf2a100 = rbf(c[1],alpha[1],inpt)\n",
    "rbf3a100 = rbf(c[2],alpha[1],inpt)\n",
    "rbf4a100 = rbf(c[3],alpha[1],inpt)\n",
    "\n",
    "#Column vector for alpha 1000\n",
    "rbf1a1000 = rbf(c[0],alpha[2],inpt)\n",
    "rbf2a1000 = rbf(c[1],alpha[2],inpt)\n",
    "rbf3a1000 = rbf(c[2],alpha[2],inpt)\n",
    "rbf4a1000 = rbf(c[3],alpha[2],inpt)\n",
    "\n",
    "phi1 = np.append(np.ones((len(inpt),1)), np.concatenate((rbf1,rbf2,rbf3,rbf4),axis=1),axis=1)\n",
    "phi2 = np.append(np.ones((len(inpt),1)), np.concatenate((rbf1a100,rbf2a100,rbf3a100,rbf4a100),axis=1),axis=1)\n",
    "phi3 = np.append(np.ones((len(inpt),1)), np.concatenate((rbf1a1000,rbf2a1000,rbf3a1000,rbf4a1000),axis=1),axis=1)\n",
    "#for center in c:\n",
    "#    for i in range(len(inpt)):\n",
    "#        appender[i] = rbf(center,alpha[0],inpt[i])\n",
    "#    designMatrix = np.append(designMatrix, appender, axis = 1)\n",
    "#    \n",
    "#designMatrix 1\n",
    "mentalReg = LinearRegression(fit_intercept = False)\n",
    "mentalReg.fit(phi1, y)\n",
    "\n",
    "#designMatrix2\n",
    "mentalReg2 = LinearRegression(fit_intercept = False)\n",
    "mentalReg2.fit(phi2, y)\n",
    "\n",
    "#designMatrix3\n",
    "mentalReg3 = LinearRegression(fit_intercept = False)\n",
    "mentalReg3.fit(phi3, y)\n",
    "\n",
    "#Weights\n",
    "weights = mentalReg.coef_[0]\n",
    "weights\n",
    "\n",
    "#Weights 2\n",
    "weights2 = mentalReg2.coef_[0]\n",
    "\n",
    "#Weights3\n",
    "weights3 = mentalReg3.coef_[0]\n",
    "\n",
    "Y = weights[0] + weights[1]*rbf(c[0],alpha[0],X) + weights[2]*rbf(c[1],alpha[0],X) + weights[3]*rbf(c[2],alpha[0],X) + weights[4]*rbf(c[3],alpha[0],X)\n",
    "Y2 = weights2[0] + weights2[1]*rbf(c[0],alpha[1],X) + weights2[2]*rbf(c[1],alpha[1],X) + weights2[3]*rbf(c[2],alpha[1],X) + weights2[4]*rbf(c[3],alpha[1],X)\n",
    "Y3 = weights3[0] + weights3[1]*rbf(c[0],alpha[2],X) + weights3[2]*rbf(c[1],alpha[2],X) + weights3[3]*rbf(c[2],alpha[2],X) + weights3[4]*rbf(c[3],alpha[2],X)"
   ]
  },
  {
   "cell_type": "code",
   "execution_count": null,
   "metadata": {},
   "outputs": [],
   "source": []
  },
  {
   "cell_type": "code",
   "execution_count": null,
   "metadata": {},
   "outputs": [],
   "source": []
  },
  {
   "cell_type": "code",
   "execution_count": 14,
   "metadata": {},
   "outputs": [],
   "source": [
    "X = np.linspace(-5,5,1000)"
   ]
  },
  {
   "cell_type": "code",
   "execution_count": 20,
   "metadata": {},
   "outputs": [
    {
     "data": {
      "text/plain": [
       "[]"
      ]
     },
     "execution_count": 20,
     "metadata": {},
     "output_type": "execute_result"
    },
    {
     "data": {
      "image/png": "[encoded data removed]",
      "text/plain": [
       "<Figure size 432x288 with 1 Axes>"
      ]
     },
     "metadata": {
      "needs_background": "light"
     },
     "output_type": "display_data"
    }
   ],
   "source": [
    "dataSet.plot(x = 'input', y = 'output', kind = 'scatter', label = 'Data input', color='blue')\n",
    "plt.plot(X,Y,label='Alpha = 0.2')\n",
    "plt.plot(X,Y2,label='Alpha = 100')\n",
    "plt.plot(X,Y3,label='Alpha = 1000')\n",
    "plt.title('Radial Basis Function with different widths')\n",
    "plt.legend()\n",
    "plt.plot()"
   ]
  },
  {
   "cell_type": "code",
   "execution_count": null,
   "metadata": {},
   "outputs": [],
   "source": []
  },
  {
   "cell_type": "code",
   "execution_count": null,
   "metadata": {},
   "outputs": [],
   "source": []
  },
  {
   "cell_type": "code",
   "execution_count": null,
   "metadata": {},
   "outputs": [],
   "source": []
  }
 ],
 "metadata": {
  "kernelspec": {
   "display_name": "Python 3",
   "language": "python",
   "name": "python3"
  },
  "language_info": {
   "codemirror_mode": {
    "name": "ipython",
    "version": 3
   },
   "file_extension": ".py",
   "mimetype": "text/x-python",
   "name": "python",
   "nbconvert_exporter": "python",
   "pygments_lexer": "ipython3",
   "version": "3.7.4"
  }
 },
 "nbformat": 4,
 "nbformat_minor": 4
}
